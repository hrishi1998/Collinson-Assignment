{
	"cells": [
		{
			"cell_type": "markdown",
			"metadata": {
				"editable": true,
				"trusted": true
			},
			"source": [
				"# AWS Glue Studio Notebook\n",
				"##### You are now running a AWS Glue Studio notebook; To start using your notebook you need to start an AWS Glue Interactive Session.\n"
			]
		},
		{
			"cell_type": "markdown",
			"metadata": {
				"editable": true,
				"trusted": true
			},
			"source": [
				"#### Optional: Run this cell to see available notebook commands (\"magics\").\n"
			]
		},
		{
			"cell_type": "code",
			"execution_count": null,
			"metadata": {
				"editable": true,
				"trusted": true,
				"vscode": {
					"languageId": "python_glue_session"
				}
			},
			"outputs": [],
			"source": [
				"%help"
			]
		},
		{
			"cell_type": "markdown",
			"metadata": {
				"editable": true,
				"trusted": true
			},
			"source": [
				"####  Run this cell to set up and start your interactive session.\n"
			]
		},
		{
			"cell_type": "code",
			"execution_count": null,
			"metadata": {
				"editable": true,
				"trusted": true,
				"vscode": {
					"languageId": "python_glue_session"
				}
			},
			"outputs": [],
			"source": [
				"%idle_timeout 2880\n",
				"%glue_version 4.0\n",
				"%worker_type G.1X\n",
				"%number_of_workers 5\n",
				"\n",
				"import sys\n",
				"from awsglue.transforms import *\n",
				"from awsglue.utils import getResolvedOptions\n",
				"from pyspark.context import SparkContext\n",
				"from awsglue.context import GlueContext\n",
				"from awsglue.job import Job\n",
				"  \n",
				"sc = SparkContext.getOrCreate()\n",
				"glueContext = GlueContext(sc)\n",
				"spark = glueContext.spark_session\n",
				"job = Job(glueContext)"
			]
		},
		{
			"cell_type": "code",
			"execution_count": 63,
			"metadata": {
				"tags": [],
				"trusted": true,
				"vscode": {
					"languageId": "python_glue_session"
				}
			},
			"outputs": [
				{
					"name": "stdout",
					"output_type": "stream",
					"text": [
						"\n"
					]
				}
			],
			"source": [
				"from pyspark.sql import SparkSession\n",
				"from pyspark.sql import SQLContext\n",
				"from pyspark.ml.evaluation import RegressionEvaluator\n",
				"from pyspark.ml.recommendation import ALS\n",
				"from pyspark.sql.functions import udf,col,when\n",
				"import numpy as np"
			]
		},
		{
			"cell_type": "code",
			"execution_count": 65,
			"metadata": {
				"tags": [],
				"trusted": true,
				"vscode": {
					"languageId": "python_glue_session"
				}
			},
			"outputs": [
				{
					"name": "stdout",
					"output_type": "stream",
					"text": [
						"\n"
					]
				}
			],
			"source": [
				"spark = SparkSession.builder.appName('Recommendation').getOrCreate()"
			]
		},
		{
			"cell_type": "code",
			"execution_count": 66,
			"metadata": {
				"tags": [],
				"trusted": true,
				"vscode": {
					"languageId": "python_glue_session"
				}
			},
			"outputs": [
				{
					"name": "stdout",
					"output_type": "stream",
					"text": [
						"\n"
					]
				}
			],
			"source": [
				"sc = spark.sparkContext\n",
				"sqlContext=SQLContext(sc)"
			]
		},
		{
			"cell_type": "code",
			"execution_count": 67,
			"metadata": {
				"tags": [],
				"trusted": true,
				"vscode": {
					"languageId": "python_glue_session"
				}
			},
			"outputs": [
				{
					"name": "stdout",
					"output_type": "stream",
					"text": [
						"root\n",
						" |-- userId: integer (nullable = true)\n",
						" |-- movieId: integer (nullable = true)\n",
						" |-- rating: double (nullable = true)\n",
						" |-- timestamp: integer (nullable = true)\n"
					]
				}
			],
			"source": [
				"ratings_df=spark.read.csv('s3://collinson-task-bucket/ratings.csv',inferSchema=True,header=True)\n",
				"ratings_df.printSchema()"
			]
		},
		{
			"cell_type": "code",
			"execution_count": 68,
			"metadata": {
				"tags": [],
				"trusted": true,
				"vscode": {
					"languageId": "python"
				}
			},
			"outputs": [
				{
					"name": "stdout",
					"output_type": "stream",
					"text": [
						"+------+-------+------+---------+\n",
						"|userId|movieId|rating|timestamp|\n",
						"+------+-------+------+---------+\n",
						"|     1|      1|   4.0|964982703|\n",
						"|     1|      3|   4.0|964981247|\n",
						"|     1|      6|   4.0|964982224|\n",
						"|     1|     47|   5.0|964983815|\n",
						"|     1|     50|   5.0|964982931|\n",
						"|     1|     70|   3.0|964982400|\n",
						"|     1|    101|   5.0|964980868|\n",
						"|     1|    110|   4.0|964982176|\n",
						"|     1|    151|   5.0|964984041|\n",
						"|     1|    157|   5.0|964984100|\n",
						"|     1|    163|   5.0|964983650|\n",
						"|     1|    216|   5.0|964981208|\n",
						"|     1|    223|   3.0|964980985|\n",
						"|     1|    231|   5.0|964981179|\n",
						"|     1|    235|   4.0|964980908|\n",
						"|     1|    260|   5.0|964981680|\n",
						"|     1|    296|   3.0|964982967|\n",
						"|     1|    316|   3.0|964982310|\n",
						"|     1|    333|   5.0|964981179|\n",
						"|     1|    349|   4.0|964982563|\n",
						"+------+-------+------+---------+\n",
						"only showing top 20 rows\n"
					]
				}
			],
			"source": [
				"ratings_df.show()"
			]
		},
		{
			"cell_type": "code",
			"execution_count": 69,
			"metadata": {
				"tags": [],
				"trusted": true,
				"vscode": {
					"languageId": "python"
				}
			},
			"outputs": [
				{
					"name": "stdout",
					"output_type": "stream",
					"text": [
						"root\n",
						" |-- movieId: integer (nullable = true)\n",
						" |-- title: string (nullable = true)\n",
						" |-- genres: string (nullable = true)\n"
					]
				}
			],
			"source": [
				"movies_df=spark.read.csv('s3://collinson-task-bucket/movies.csv',inferSchema=True,header=True)\n",
				"movies_df.printSchema()"
			]
		},
		{
			"cell_type": "code",
			"execution_count": 70,
			"metadata": {
				"tags": [],
				"trusted": true,
				"vscode": {
					"languageId": "python_glue_session"
				}
			},
			"outputs": [
				{
					"name": "stdout",
					"output_type": "stream",
					"text": [
						"+-------+--------------------+--------------------+\n",
						"|movieId|               title|              genres|\n",
						"+-------+--------------------+--------------------+\n",
						"|      1|    Toy Story (1995)|Adventure|Animati...|\n",
						"|      2|      Jumanji (1995)|Adventure|Childre...|\n",
						"|      3|Grumpier Old Men ...|      Comedy|Romance|\n",
						"|      4|Waiting to Exhale...|Comedy|Drama|Romance|\n",
						"|      5|Father of the Bri...|              Comedy|\n",
						"|      6|         Heat (1995)|Action|Crime|Thri...|\n",
						"|      7|      Sabrina (1995)|      Comedy|Romance|\n",
						"|      8| Tom and Huck (1995)|  Adventure|Children|\n",
						"|      9| Sudden Death (1995)|              Action|\n",
						"|     10|    GoldenEye (1995)|Action|Adventure|...|\n",
						"|     11|American Presiden...|Comedy|Drama|Romance|\n",
						"|     12|Dracula: Dead and...|       Comedy|Horror|\n",
						"|     13|        Balto (1995)|Adventure|Animati...|\n",
						"|     14|        Nixon (1995)|               Drama|\n",
						"|     15|Cutthroat Island ...|Action|Adventure|...|\n",
						"|     16|       Casino (1995)|         Crime|Drama|\n",
						"|     17|Sense and Sensibi...|       Drama|Romance|\n",
						"|     18|   Four Rooms (1995)|              Comedy|\n",
						"|     19|Ace Ventura: When...|              Comedy|\n",
						"|     20|  Money Train (1995)|Action|Comedy|Cri...|\n",
						"+-------+--------------------+--------------------+\n",
						"only showing top 20 rows\n"
					]
				}
			],
			"source": [
				"movies_df.show()"
			]
		},
		{
			"cell_type": "code",
			"execution_count": 71,
			"metadata": {
				"tags": [],
				"trusted": true,
				"vscode": {
					"languageId": "python_glue_session"
				}
			},
			"outputs": [
				{
					"name": "stdout",
					"output_type": "stream",
					"text": [
						"root\n",
						" |-- movieId: integer (nullable = true)\n",
						" |-- imdbId: integer (nullable = true)\n",
						" |-- tmdbId: integer (nullable = true)\n"
					]
				}
			],
			"source": [
				"links_df=spark.read.csv('s3://collinson-task-bucket/links.csv',inferSchema=True,header=True)\n",
				"links_df.printSchema()"
			]
		},
		{
			"cell_type": "code",
			"execution_count": 72,
			"metadata": {
				"tags": [],
				"trusted": true,
				"vscode": {
					"languageId": "python_glue_session"
				}
			},
			"outputs": [
				{
					"name": "stdout",
					"output_type": "stream",
					"text": [
						"\n"
					]
				}
			],
			"source": [
				"training_df,validation_df=ratings_df.randomSplit([0.8,0.2])"
			]
		},
		{
			"cell_type": "code",
			"execution_count": 73,
			"metadata": {
				"tags": [],
				"trusted": true,
				"vscode": {
					"languageId": "python_glue_session"
				}
			},
			"outputs": [
				{
					"name": "stdout",
					"output_type": "stream",
					"text": [
						"\n"
					]
				}
			],
			"source": [
				"iterations=10\n",
				"regularization_parameter=0.1\n",
				"rank=4\n",
				"error=[]\n",
				"err=0"
			]
		},
		{
			"cell_type": "code",
			"execution_count": 74,
			"metadata": {
				"tags": [],
				"trusted": true,
				"vscode": {
					"languageId": "python_glue_session"
				}
			},
			"outputs": [
				{
					"name": "stdout",
					"output_type": "stream",
					"text": [
						"Root Mean Square Error=0.8883878490081075\n"
					]
				}
			],
			"source": [
				"als = ALS(maxIter=iterations,regParam=regularization_parameter,rank=5,userCol=\"userId\",itemCol=\"movieId\",ratingCol=\"rating\")\n",
				"model=als.fit(training_df)\n",
				"predictions=model.transform(validation_df)\n",
				"new_predictions=predictions.filter(col('prediction')!=np.nan)\n",
				"evaluator=RegressionEvaluator(metricName=\"rmse\",labelCol=\"rating\",predictionCol=\"prediction\")\n",
				"rmse=evaluator.evaluate(new_predictions)\n",
				"print(\"Root Mean Square Error=\"+str(rmse))"
			]
		},
		{
			"cell_type": "code",
			"execution_count": 75,
			"metadata": {
				"tags": [],
				"trusted": true,
				"vscode": {
					"languageId": "python_glue_session"
				}
			},
			"outputs": [
				{
					"name": "stdout",
					"output_type": "stream",
					"text": [
						"Root Mean Square Error=0.8853513503062906\n",
						"Root Mean Square Error=0.8883878490081075\n",
						"Root Mean Square Error=0.8809132293698405\n",
						"Root Mean Square Error=0.8863081614713044\n",
						"Root Mean Square Error=0.8868264891075929\n",
						"Root Mean Square Error=0.8833562944459635\n"
					]
				}
			],
			"source": [
				"for rank in range(4,10):\n",
				"    als = ALS(maxIter=iterations,regParam=regularization_parameter,rank=rank,userCol=\"userId\",itemCol=\"movieId\",ratingCol=\"rating\")\n",
				"    model=als.fit(training_df)\n",
				"    predictions=model.transform(validation_df)\n",
				"    new_predictions=predictions.filter(col('prediction')!=np.nan)\n",
				"    evaluator=RegressionEvaluator(metricName=\"rmse\",labelCol=\"rating\",predictionCol=\"prediction\")\n",
				"    rmse=evaluator.evaluate(new_predictions)\n",
				"    print(\"Root Mean Square Error=\"+str(rmse))\n",
				"    "
			]
		},
		{
			"cell_type": "code",
			"execution_count": 78,
			"metadata": {
				"tags": [],
				"trusted": true,
				"vscode": {
					"languageId": "python_glue_session"
				}
			},
			"outputs": [
				{
					"name": "stdout",
					"output_type": "stream",
					"text": [
						"+------+-------+------+---------+----------+\n",
						"|userId|movieId|rating|timestamp|prediction|\n",
						"+------+-------+------+---------+----------+\n",
						"|     1|      3|   4.0|964981247| 3.8932889|\n",
						"|     1|    101|   5.0|964980868| 4.5461535|\n",
						"|     1|    157|   5.0|964984100| 2.9828806|\n",
						"|     1|    223|   3.0|964980985|   4.75011|\n",
						"|     1|    590|   4.0|964982546|  4.266899|\n",
						"|     1|    673|   3.0|964981775|  3.081884|\n",
						"|     1|    943|   4.0|964983614| 4.3108025|\n",
						"|     1|   1030|   3.0|964982903| 3.4207942|\n",
						"|     1|   1032|   5.0|964982791| 4.1412992|\n",
						"|     1|   1042|   4.0|964981179| 3.4126763|\n",
						"+------+-------+------+---------+----------+\n",
						"only showing top 10 rows\n"
					]
				}
			],
			"source": [
				"predictions.show(n=10)"
			]
		},
		{
			"cell_type": "code",
			"execution_count": 80,
			"metadata": {
				"tags": [],
				"trusted": true,
				"vscode": {
					"languageId": "python_glue_session"
				}
			},
			"outputs": [
				{
					"name": "stdout",
					"output_type": "stream",
					"text": [
						"+------+--------------------+--------------------+----------+\n",
						"|userId|               title|              genres|prediction|\n",
						"+------+--------------------+--------------------+----------+\n",
						"|    12| Little Women (1994)|               Drama|  4.358953|\n",
						"|    12|Groundhog Day (1993)|Comedy|Fantasy|Ro...|  4.321611|\n",
						"|    12| Billy Elliot (2000)|               Drama| 5.2798014|\n",
						"|    18|         Heat (1995)|Action|Crime|Thri...| 3.9423351|\n",
						"|    18|       Casino (1995)|         Crime|Drama|  4.074382|\n",
						"|    18|  Taxi Driver (1976)|Crime|Drama|Thriller| 4.0844536|\n",
						"|    18|Die Hard: With a ...|Action|Crime|Thri...| 3.4808984|\n",
						"|    18|Lion King, The (1...|Adventure|Animati...| 3.9378774|\n",
						"|    18|Naked Gun 33 1/3:...|       Action|Comedy| 2.7522535|\n",
						"|    18|Carlito's Way (1993)|         Crime|Drama| 3.8539643|\n",
						"+------+--------------------+--------------------+----------+\n",
						"only showing top 10 rows\n"
					]
				}
			],
			"source": [
				"predictions.join(movies_df,\"movieId\").select(\"userId\",\"title\",\"genres\",\"prediction\").show(10)"
			]
		},
		{
			"cell_type": "code",
			"execution_count": 85,
			"metadata": {
				"tags": [],
				"trusted": true,
				"vscode": {
					"languageId": "python_glue_session"
				}
			},
			"outputs": [
				{
					"name": "stdout",
					"output_type": "stream",
					"text": [
						"+------+--------------------+--------------------+------+----------+\n",
						"|userId|               title|              genres|tmdbId|prediction|\n",
						"+------+--------------------+--------------------+------+----------+\n",
						"|    12| Little Women (1994)|               Drama|  9587|  4.358953|\n",
						"|    12|Groundhog Day (1993)|Comedy|Fantasy|Ro...|   137|  4.321611|\n",
						"|    12| Billy Elliot (2000)|               Drama|    71| 5.2798014|\n",
						"+------+--------------------+--------------------+------+----------+\n"
					]
				}
			],
			"source": [
				"for_one_user = predictions.filter(col(\"userId\")==12).join(movies_df,\"movieId\").join(links_df,\"movieId\").select(\"userId\",\"title\",\"genres\",\"tmdbId\",\"prediction\")\n",
				"for_one_user.show(10)"
			]
		},
		{
			"cell_type": "code",
			"execution_count": 86,
			"metadata": {
				"tags": [],
				"trusted": true,
				"vscode": {
					"languageId": "python_glue_session"
				}
			},
			"outputs": [
				{
					"name": "stdout",
					"output_type": "stream",
					"text": [
						"\n"
					]
				}
			],
			"source": [
				"userRecommends=model.recommendForAllUsers(5)\n",
				"movieRecommends=model.recommendForAllItems(5)"
			]
		},
		{
			"cell_type": "code",
			"execution_count": 87,
			"metadata": {
				"tags": [],
				"trusted": true,
				"vscode": {
					"languageId": "python_glue_session"
				}
			},
			"outputs": [
				{
					"name": "stdout",
					"output_type": "stream",
					"text": [
						"root\n",
						" |-- userId: integer (nullable = false)\n",
						" |-- recommendations: array (nullable = true)\n",
						" |    |-- element: struct (containsNull = true)\n",
						" |    |    |-- movieId: integer (nullable = true)\n",
						" |    |    |-- rating: float (nullable = true)\n"
					]
				}
			],
			"source": [
				"userRecommends.printSchema()"
			]
		},
		{
			"cell_type": "code",
			"execution_count": 88,
			"metadata": {
				"tags": [],
				"trusted": true,
				"vscode": {
					"languageId": "python_glue_session"
				}
			},
			"outputs": [
				{
					"name": "stdout",
					"output_type": "stream",
					"text": [
						"+------+------------------------------------+\n",
						"|userId|movieId                             |\n",
						"+------+------------------------------------+\n",
						"|1     |[720, 51931, 5915, 132333, 5490]    |\n",
						"|2     |[131724, 78836, 1241, 86377, 171495]|\n",
						"|3     |[1194, 70946, 5746, 6835, 5181]     |\n",
						"|5     |[51931, 89904, 7096, 8477, 6818]    |\n",
						"|10    |[32892, 542, 42730, 90439, 74946]   |\n",
						"|12    |[32892, 27611, 68073, 945, 3022]    |\n",
						"|16    |[51931, 3022, 3379, 7767, 28]       |\n",
						"|18    |[51931, 177593, 3379, 3022, 171495] |\n",
						"|20    |[7096, 51931, 3088, 26258, 7815]    |\n",
						"|22    |[27611, 1014, 7116, 61350, 27251]   |\n",
						"+------+------------------------------------+\n",
						"only showing top 10 rows\n"
					]
				}
			],
			"source": [
				"userRecommends.select(\"userId\",\"recommendations.movieId\").show(10,False)"
			]
		},
		{
			"cell_type": "code",
			"execution_count": 89,
			"metadata": {
				"tags": [],
				"trusted": true,
				"vscode": {
					"languageId": "python_glue_session"
				}
			},
			"outputs": [
				{
					"name": "stdout",
					"output_type": "stream",
					"text": [
						"root\n",
						" |-- movieId: integer (nullable = false)\n",
						" |-- recommendations: array (nullable = true)\n",
						" |    |-- element: struct (containsNull = true)\n",
						" |    |    |-- userId: integer (nullable = true)\n",
						" |    |    |-- rating: float (nullable = true)\n"
					]
				}
			],
			"source": [
				"movieRecommends.printSchema()"
			]
		},
		{
			"cell_type": "code",
			"execution_count": 90,
			"metadata": {
				"tags": [],
				"trusted": true,
				"vscode": {
					"languageId": "python_glue_session"
				}
			},
			"outputs": [
				{
					"name": "stdout",
					"output_type": "stream",
					"text": [
						"+-------+-------------------------+\n",
						"|movieId|userId                   |\n",
						"+-------+-------------------------+\n",
						"|12     |[258, 53, 558, 327, 413] |\n",
						"|18     |[53, 12, 35, 258, 43]    |\n",
						"|38     |[543, 594, 584, 544, 192]|\n",
						"|70     |[53, 452, 276, 441, 171] |\n",
						"|93     |[543, 53, 594, 43, 554]  |\n",
						"|161    |[543, 53, 584, 594, 544] |\n",
						"|186    |[543, 584, 35, 594, 43]  |\n",
						"|190    |[224, 275, 603, 138, 98] |\n",
						"|218    |[485, 236, 96, 164, 267] |\n",
						"|225    |[543, 53, 243, 544, 584] |\n",
						"+-------+-------------------------+\n",
						"only showing top 10 rows\n"
					]
				}
			],
			"source": [
				"movieRecommends.select(\"movieId\",\"recommendations.userId\").show(10,False)"
			]
		},
		{
			"cell_type": "code",
			"execution_count": 91,
			"metadata": {
				"tags": [],
				"trusted": true,
				"vscode": {
					"languageId": "python_glue_session"
				}
			},
			"outputs": [
				{
					"name": "stdout",
					"output_type": "stream",
					"text": [
						"+------+\n",
						"|userId|\n",
						"+------+\n",
						"|    12|\n",
						"|    18|\n",
						"|    38|\n",
						"|    67|\n",
						"|    70|\n",
						"+------+\n"
					]
				}
			],
			"source": [
				"users=ratings_df.select(\"userId\").distinct().limit(5)\n",
				"users.show()"
			]
		},
		{
			"cell_type": "code",
			"execution_count": 92,
			"metadata": {
				"tags": [],
				"trusted": true,
				"vscode": {
					"languageId": "python_glue_session"
				}
			},
			"outputs": [
				{
					"name": "stdout",
					"output_type": "stream",
					"text": [
						"+------+--------------------+\n",
						"|userId|     recommendations|\n",
						"+------+--------------------+\n",
						"|    12|[{32892, 6.124181...|\n",
						"|    70|[{51931, 5.329582...|\n",
						"|    67|[{26171, 5.450884...|\n",
						"|    18|[{51931, 4.992954...|\n",
						"|    38|[{26171, 4.870558...|\n",
						"+------+--------------------+\n"
					]
				}
			],
			"source": [
				"userSubsetRecs = model.recommendForUserSubset(users,10)\n",
				"userSubsetRecs.show()"
			]
		},
		{
			"cell_type": "code",
			"execution_count": 93,
			"metadata": {
				"tags": [],
				"trusted": true,
				"vscode": {
					"languageId": "python_glue_session"
				}
			},
			"outputs": [
				{
					"name": "stdout",
					"output_type": "stream",
					"text": [
						"+------+---------------------------------------------------------------------+\n",
						"|userId|movieId                                                              |\n",
						"+------+---------------------------------------------------------------------+\n",
						"|12    |[32892, 27611, 68073, 945, 3022, 157296, 177593, 7121, 45503, 166568]|\n",
						"|70    |[51931, 720, 3022, 7096, 28, 8477, 26258, 27523, 6442, 8235]         |\n",
						"|67    |[26171, 32892, 86347, 177593, 92535, 103984, 1366, 40148, 3379, 3022]|\n",
						"|18    |[51931, 177593, 3379, 3022, 171495, 28, 7767, 78836, 27523, 6442]    |\n",
						"|38    |[26171, 1949, 1262, 1250, 25850, 6650, 5915, 5490, 132333, 3089]     |\n",
						"+------+---------------------------------------------------------------------+\n"
					]
				}
			],
			"source": [
				"userSubsetRecs.select(\"userId\",\"recommendations.movieId\").show(10,False)"
			]
		},
		{
			"cell_type": "code",
			"execution_count": 94,
			"metadata": {
				"tags": [],
				"trusted": true,
				"vscode": {
					"languageId": "python_glue_session"
				}
			},
			"outputs": [
				{
					"name": "stdout",
					"output_type": "stream",
					"text": [
						"+-------+\n",
						"|movieId|\n",
						"+-------+\n",
						"|     70|\n",
						"|    673|\n",
						"|   1030|\n",
						"|   1092|\n",
						"|   1256|\n",
						"+-------+\n"
					]
				}
			],
			"source": [
				"movies=ratings_df.select(\"movieId\").distinct().limit(5)\n",
				"movies.show()"
			]
		},
		{
			"cell_type": "code",
			"execution_count": 95,
			"metadata": {
				"tags": [],
				"trusted": true,
				"vscode": {
					"languageId": "python_glue_session"
				}
			},
			"outputs": [
				{
					"name": "stdout",
					"output_type": "stream",
					"text": [
						"+-------+------------------------------------------------+\n",
						"|movieId|userId                                          |\n",
						"+-------+------------------------------------------------+\n",
						"|1092   |[53, 543, 375, 276, 236, 171, 243, 371, 99, 122]|\n",
						"|1256   |[502, 99, 499, 371, 53, 393, 505, 69, 40, 1]    |\n",
						"|673    |[53, 243, 543, 276, 492, 43, 35, 337, 236, 548] |\n",
						"|70     |[53, 452, 276, 441, 171, 375, 37, 533, 549, 258]|\n",
						"|1030   |[276, 502, 43, 543, 53, 236, 35, 243, 505, 99]  |\n",
						"+-------+------------------------------------------------+\n"
					]
				}
			],
			"source": [
				"movieSubsetRecs = model.recommendForItemSubset(movies,10)\n",
				"movieSubsetRecs.select(\"movieId\",\"recommendations.userId\").show(10,False)"
			]
		},
		{
			"cell_type": "code",
			"execution_count": 98,
			"metadata": {
				"tags": [],
				"trusted": true,
				"vscode": {
					"languageId": "python_glue_session"
				}
			},
			"outputs": [
				{
					"name": "stdout",
					"output_type": "stream",
					"text": [
						"+-------+------+----------+\n",
						"|movieId|userId|prediction|\n",
						"+-------+------+----------+\n",
						"|   1580|   543| 4.5465755|\n",
						"|   3175|   543|  4.225012|\n",
						"|   2366|   543| 4.3932304|\n",
						"|   1590|   543|  2.048086|\n",
						"+-------+------+----------+\n"
					]
				}
			],
			"source": [
				"movie_ids=[1580,3175,2366,1590]\n",
				"user_ids=[543,543,543,543]\n",
				"new_user_preds=sqlContext.createDataFrame(zip(movie_ids,user_ids),schema=['movieId','userId'])\n",
				"new_predictions=model.transform(new_user_preds)\n",
				"new_predictions.show()"
			]
		},
		{
			"cell_type": "code",
			"execution_count": null,
			"metadata": {
				"vscode": {
					"languageId": "python_glue_session"
				}
			},
			"outputs": [],
			"source": []
		}
	],
	"metadata": {
		"kernelspec": {
			"display_name": "Glue PySpark",
			"language": "python",
			"name": "glue_pyspark"
		},
		"language_info": {
			"codemirror_mode": {
				"name": "python",
				"version": 3
			},
			"file_extension": ".py",
			"mimetype": "text/x-python",
			"name": "Python_Glue_Session",
			"pygments_lexer": "python3"
		}
	},
	"nbformat": 4,
	"nbformat_minor": 4
}
